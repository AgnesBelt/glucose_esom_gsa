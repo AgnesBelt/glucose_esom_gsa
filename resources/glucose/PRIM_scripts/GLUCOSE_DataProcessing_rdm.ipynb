{
 "cells": [
  {
   "cell_type": "code",
   "execution_count": 1,
   "metadata": {},
   "outputs": [],
   "source": [
    "import pandas as pd\n",
    "import matplotlib.pyplot as plt\n",
    "import plotly.express as px\n",
    "import numpy as np\n",
    "\n",
    "from pathlib import Path\n",
    "\n",
    "import os\n",
    "\n",
    "import glob\n",
    "\n",
    "import pickle"
   ]
  },
  {
   "cell_type": "code",
   "execution_count": 2,
   "metadata": {},
   "outputs": [
    {
     "name": "stdout",
     "output_type": "stream",
     "text": [
      "Infeasible scenarios: 0\n",
      "Number of replications/runs: 1500\n"
     ]
    }
   ],
   "source": [
    "#read in the path to the folder of interest\n",
    "folder = 'GLUCOSE_withCB_221104'\n",
    "\n",
    "myPath = Path(f'{folder}', 'results', '0')\n",
    "tifCounter = len(glob.glob1(myPath,\"*.ilp\"))\n",
    "print('Infeasible scenarios:', tifCounter)\n",
    "\n",
    "#data processing from GLUCOSE scenarios runs\n",
    "#creating a database with yearly data inputs\n",
    "#configfile: \"config/config.yaml\"\n",
    "\n",
    "myPath = Path(f'{folder}','results', '0')\n",
    "n_replications = int(len(glob.glob1(myPath,\"*.sol\")))\n",
    "print(\"Number of replications/runs:\", n_replications)\n",
    "replications = list(range(0,n_replications))"
   ]
  },
  {
   "cell_type": "code",
   "execution_count": 3,
   "metadata": {},
   "outputs": [],
   "source": [
    "#%% read in model parameter data\n",
    "\n",
    "FUEL = pd.read_csv(Path(f'{folder}', 'results', '0', f'model_0', 'data', 'FUEL.csv'))\n",
    "TECH = pd.read_csv(Path(f'{folder}', 'results', '0', f'model_0', 'data', 'TECHNOLOGY.csv'))\n",
    "\n",
    "## energy fuels\n",
    "energy_fuel = FUEL.loc[(FUEL.VALUE.str[0:2] == 'C1')]\n",
    "PrimEN_fuel = (energy_fuel.loc[(energy_fuel.VALUE.str[3:4] == 'P')|(energy_fuel.VALUE.str[3:4] == 'R')]).VALUE.unique()\n",
    "SecEN_fuel = (energy_fuel.loc[(energy_fuel.VALUE.str[3:4] == 'S')]).VALUE.unique()\n",
    "FinalEN_fuel = (energy_fuel.loc[(energy_fuel.VALUE.str[3:4] == 'F')]).VALUE.unique()\n",
    "## energy techs\n",
    "energy_tech = TECH.loc[(TECH.VALUE.str[0:2] == 'C1')]\n",
    "ResEN_tech = (energy_tech.loc[(energy_tech.VALUE.str[6:7] == 'I')]).VALUE.unique()\n",
    "RE_tech = (energy_tech.loc[(energy_tech.VALUE.str[2:4] == 'SO')|(energy_tech.VALUE.str[2:4] == 'WD')|(energy_tech.VALUE.str[2:4] == 'HY')|(energy_tech.VALUE.str[2:4] == 'GO')|(energy_tech.VALUE.str[2:4] == 'OC')]).VALUE.unique()\n",
    "PrimEN_tech = (energy_tech.loc[(energy_tech.VALUE.str[6:7] == 'P')|(energy_tech.VALUE.str[6:7] == '0')]).VALUE.unique()\n",
    "SecEN_tech = (energy_tech.loc[(energy_tech.VALUE.str[6:7] == 'T')]).VALUE.unique()\n",
    "FinalEN_tech = (energy_tech.loc[(energy_tech.VALUE.str[6:7] == 'F')]).VALUE.unique()\n",
    "\n",
    "## land and food fuels\n",
    "land_fuel = (FUEL.loc[(FUEL.VALUE.str[0:1] == 'L')]).VALUE.unique()\n",
    "food_fuel = (FUEL.loc[(FUEL.VALUE.str[0:1] == 'M')|(FUEL.VALUE.str[0:1] == 'V')]).VALUE.unique()\n",
    "## land and food techs\n",
    "land_tech = (TECH.loc[(TECH.VALUE.str[0:1] == 'L')]).VALUE.unique()\n",
    "food_tech = (TECH.loc[(TECH.VALUE.str[0:1] == 'M')|(TECH.VALUE.str[0:1] == 'V')]).VALUE.unique()\n",
    "\n",
    "## materials fuels\n",
    "material_fuel = (FUEL.loc[(FUEL.VALUE.str.len() == 3)]).VALUE.unique()\n",
    "## materials techs\n",
    "industry_tech = (TECH.loc[(TECH.VALUE.str[3:] == 'PLANT')|(TECH.VALUE.str[4:] == 'PLANT')]).VALUE.unique()\n",
    "material_tech = (TECH.loc[(TECH.VALUE.str[4:] == 'MINE')]).VALUE.unique()\n",
    "\n",
    "## emissions\n",
    "EMISSION = pd.read_csv(Path(f'{folder}','results', '0', f'model_0', 'data', 'EMISSION.csv'))\n",
    "emissions = (EMISSION.loc[(EMISSION.VALUE.str.len() == 5)]).VALUE.unique()\n",
    "\n",
    "## timeframe / modelling period\n",
    "YEAR = pd.read_csv(Path(f'{folder}','results', '0', f'model_0', 'data', 'YEAR.csv'))\n",
    "YEAR.iloc[:-10]\n",
    "\n",
    "parameter_file = glob.glob1(folder, '*parameters*')\n",
    "parameters_GLUCOSE = pd.read_csv(Path(f'{folder}',f'{parameter_file[0]}'))\n",
    "col = parameters_GLUCOSE['indexes']"
   ]
  },
  {
   "cell_type": "code",
   "execution_count": 4,
   "metadata": {},
   "outputs": [],
   "source": [
    "# Function for calculating yearly technology penetration (incremental share of electrical capacity)\n",
    "def percentage_change(col1,col2):\n",
    "    return ((col2 - col1) / col1) * 100"
   ]
  },
  {
   "cell_type": "code",
   "execution_count": 5,
   "metadata": {},
   "outputs": [],
   "source": [
    "#%% read in value of uncertainty inputs in 2050 - see parameters.csv file under config/ folder\n",
    "\n",
    "inputs_GLUCOSE = pd.DataFrame(index=replications)\n",
    "yr = 2050\n",
    "\n",
    "for run in replications:\n",
    "    for variable in (parameters_GLUCOSE['name']):\n",
    "    #path = 'results/0/model_{run}/data/AccumulatedAnnualDemand.csv'\n",
    "        csv_file_data = Path(f'{folder}','results', '0', f'model_{run}', 'data', f'{variable}.csv')\n",
    "        #csv_file_data2 = Path('results', '0', f'model_{run}', 'data', 'SpecifiedAnnualDemand.csv')\n",
    "        if not os.path.exists(csv_file_data):\n",
    "            pass\n",
    "        else:\n",
    "            data=pd.read_csv(csv_file_data)\n",
    "            parameters = parameters_GLUCOSE.loc[parameters_GLUCOSE['name']==variable]\n",
    "            for param in parameters['indexes']:\n",
    "                if variable[-6:] == 'Demand':\n",
    "                    fuel = param[6:]\n",
    "                    selection = data.loc[(data[\"FUEL\"]==fuel)&(data[\"YEAR\"]==yr)]\n",
    "                    inputs_GLUCOSE.loc[run,(''.join(c for c in variable if c.isupper())+','+fuel)]=selection.VALUE.sum() \n",
    "                if (variable == 'InputActivityRatio')|(variable == 'OutputActivityRatio'):\n",
    "                    technology = param.split(\",\")[1].strip()\n",
    "                    fuel = param.split(\",\")[2].strip()\n",
    "                    ModOp = param.split(\",\")[3].strip()\n",
    "                    selection = data.loc[(data[\"TECHNOLOGY\"]==technology)&(data[\"FUEL\"]==fuel)&(data[\"MODE_OF_OPERATION\"]==ModOp)&(data[\"YEAR\"]==yr)]\n",
    "                    inputs_GLUCOSE.loc[run,(''.join(c for c in variable if c.isupper())+','+technology+','+fuel)]=selection.VALUE.sum() \n",
    "                if (variable == 'TotalAnnualMaxCapacityInvestment')|(variable == 'TotalTechnologyAnnualActivityUpperLimit'):\n",
    "                    technology = param.split(\",\")[1].strip()\n",
    "                    selection = data.loc[(data[\"TECHNOLOGY\"]==technology)&(data[\"YEAR\"]==yr)]\n",
    "                    inputs_GLUCOSE.loc[run,(''.join(c for c in variable if c.isupper())+','+technology)]=selection.VALUE.sum() \n",
    "                if variable == 'AnnualEmissionLimit':\n",
    "                    emission = param.split(\",\")[1].strip()\n",
    "                    selection = data.loc[(data[\"EMISSION\"]==emission)&(data[\"YEAR\"]==yr)]\n",
    "                    inputs_GLUCOSE.loc[run,(''.join(c for c in variable if c.isupper())+','+emission)]=selection.VALUE.sum() \n",
    "                if variable == 'EmissionActivityRatio':\n",
    "                    technology = param.split(\",\")[1].strip()\n",
    "                    emission = param.split(\",\")[2].strip()\n",
    "                    selection = data.loc[(data[\"TECHNOLOGY\"]==technology)&(data[\"EMISSION\"]==emission)&(data[\"YEAR\"]==yr)]\n",
    "                    inputs_GLUCOSE.loc[run,(''.join(c for c in variable if c.isupper())+','+technology+','+emission)]=selection.VALUE.sum() \n",
    "                if variable == 'EmissionsPenalty':\n",
    "                    #technology = param.split(\",\")[1].strip()\n",
    "                    emission = param.split(\",\")[1].strip()\n",
    "                    selection = data.loc[(data[\"EMISSION\"]==emission)&(data[\"YEAR\"]==yr)]\n",
    "                    inputs_GLUCOSE.loc[run,(''.join(c for c in variable if c.isupper())+','+emission)]=selection.VALUE.sum() \n"
   ]
  },
  {
   "cell_type": "code",
   "execution_count": 6,
   "metadata": {},
   "outputs": [],
   "source": [
    "# save uncertainty inputs into file\n",
    "output = 'GLUCOSE_DataInputs'\n",
    "\n",
    "fp = open(f'{output}'+'.p', 'wb')\n",
    "my_path = Path(f'{folder}', 'GLUCOSE_DataProcessing', f'{output}'+'.p') \n",
    "with my_path.open('wb') as fp:\n",
    "    pickle.dump(inputs_GLUCOSE, fp)"
   ]
  },
  {
   "cell_type": "code",
   "execution_count": 7,
   "metadata": {},
   "outputs": [],
   "source": [
    "#%% processing results - read in selected results for year 2050\n",
    "\n",
    "CO2EQ_GLUCOSE = pd.DataFrame(index=replications, columns=YEAR.VALUE).fillna(0)\n",
    "ccs_em = pd.DataFrame(index=replications, columns=YEAR.VALUE).fillna(0)\n",
    "WATER_GLUCOSE = pd.DataFrame(index=replications, columns=YEAR.VALUE).fillna(0)\n",
    "LAi_GLUC = pd.DataFrame(index=replications, columns=YEAR.VALUE).fillna(0)\n",
    "LF_GLUCOSE = pd.DataFrame(index=replications, columns=YEAR.VALUE).fillna(0)\n",
    "NU_prod = pd.DataFrame(index=replications, columns=YEAR.VALUE).fillna(0)\n",
    "NU_cap = pd.DataFrame(index=replications, columns=YEAR.VALUE).fillna(0)\n",
    "BM_use = pd.DataFrame(index=replications, columns=YEAR.VALUE).fillna(0)\n",
    "\n",
    "for run in replications:\n",
    "    results_file1 = Path(f'{folder}', 'results', '0', f'{run}', 'TotalAnnualTechnologyActivityByMode.csv')\n",
    "    results_file2 = Path(f'{folder}', 'results', '0', f'{run}', 'AnnualEmissions.csv')\n",
    "    results_file3 = Path(f'{folder}', 'results', '0', f'{run}', 'AnnualTechnologyEmission.csv')\n",
    "    results_file4 = Path(f'{folder}', 'results', '0', f'{run}', 'ProductionByTechnologyAnnual.csv')\n",
    "    results_file5 = Path(f'{folder}', 'results', '0', f'{run}', 'TotalCapacityAnnual.csv')\n",
    "    results_file6 = Path(f'{folder}', 'results', '0', f'{run}', 'UseByTechnology.csv')\n",
    "    if not os.path.exists(results_file1):\n",
    "        pass\n",
    "    else:\n",
    "        TotalAnnualTechnologyActivityByMode=pd.read_csv(results_file1)\n",
    "        AnnualEmissions = pd.read_csv(results_file2)\n",
    "        AnnualTechnologyEmission = pd.read_csv(results_file3)\n",
    "        ProductionByTechnologyAnnual = pd.read_csv(results_file4)\n",
    "        TotalCapacityAnnual = pd.read_csv(results_file5)\n",
    "        UseByTechnology = pd.read_csv(results_file6)        \n",
    "        for year in YEAR.VALUE:\n",
    "            for tech in land_tech:\n",
    "                if tech == 'LF':\n",
    "                    land_temp = TotalAnnualTechnologyActivityByMode[(TotalAnnualTechnologyActivityByMode['TECHNOLOGY'] == tech)&(TotalAnnualTechnologyActivityByMode['YEAR'] == year)&(TotalAnnualTechnologyActivityByMode['MODE_OF_OPERATION'] == 1)]\n",
    "                    LF_GLUCOSE.loc[run, year] = land_temp['VALUE'].sum()\n",
    "                if tech == 'LA1_i':\n",
    "                    land_temp = TotalAnnualTechnologyActivityByMode[(TotalAnnualTechnologyActivityByMode['TECHNOLOGY'] == tech)&(TotalAnnualTechnologyActivityByMode['YEAR'] == year)&(TotalAnnualTechnologyActivityByMode['MODE_OF_OPERATION'] == 1)]\n",
    "                    LAi_GLUC.loc[run, year] = land_temp['VALUE'].sum()\n",
    "                for tech in PrimEN_tech:\n",
    "                    if tech[2:4]=='NU':\n",
    "                        production = ProductionByTechnologyAnnual[(ProductionByTechnologyAnnual['TECHNOLOGY']==tech)&(ProductionByTechnologyAnnual['YEAR']== year)]\n",
    "                        capacity = TotalCapacityAnnual[(TotalCapacityAnnual['TECHNOLOGY']==tech)&(TotalCapacityAnnual['YEAR']== year)]\n",
    "                        NU_prod.loc[run, year] = production['VALUE'].sum()\n",
    "                        NU_cap.loc[run, year] = capacity['VALUE'].sum()\n",
    "            use = UseByTechnology.loc[(UseByTechnology['TECHNOLOGY'].str[2:4]=='BM')&(UseByTechnology['FUEL']=='C1_P_BIOW')&(UseByTechnology['YEAR']==year)]\n",
    "            #UseByTechnology[(UseByTechnology['FUEL']==fuel)&(UseByTechnology['TECHNOLOGY']==tech)&(UseByTechnology['YEAR']==year)]\n",
    "            BM_use.loc[run, year]+= use['VALUE'].sum()\n",
    "            for ems in emissions:\n",
    "                if ems == 'CO2EQ':\n",
    "                    em = AnnualEmissions[(AnnualEmissions['EMISSION'] == ems)&(AnnualEmissions['YEAR'] == year)]\n",
    "                    AnnualTechnologyEmission_ccs = AnnualTechnologyEmission.loc[(AnnualTechnologyEmission['TECHNOLOGY'].str[-2:] == 'CS')]\n",
    "                    AnnualTechnologyEmission_ccs_em = AnnualTechnologyEmission_ccs[(AnnualTechnologyEmission_ccs['EMISSION'] == ems)&(AnnualTechnologyEmission_ccs['YEAR'] == year)]\n",
    "                    CO2EQ_GLUCOSE.loc[run, year] = em.VALUE.sum()# em['VALUE'].values\n",
    "                    if not AnnualTechnologyEmission_ccs_em.empty:\n",
    "                        #AnnualTechnologyEmission_ccs = (AnnualTechnologyEmission.loc[(AnnualTechnologyEmission['TECHNOLOGY'].str[-2:] == 'CS')])[(AnnualTechnologyEmission['EMISSION'] == ems)&(AnnualTechnologyEmission['YEAR'] == year)]\n",
    "                        ccs_em.loc[run, year] = AnnualTechnologyEmission_ccs_em.VALUE.sum()\n",
    "                if ems == 'WATER':\n",
    "                    em = AnnualEmissions[(AnnualEmissions['EMISSION'] == ems)&(AnnualEmissions['YEAR'] == year)]\n",
    "                    WATER_GLUCOSE.loc[run, year] = em.VALUE.sum()"
   ]
  },
  {
   "cell_type": "code",
   "execution_count": 8,
   "metadata": {},
   "outputs": [],
   "source": [
    "#%% read in GLUCOSE results: ProductionByTechnologyAnnual - Primary Energy\n",
    "PrimEn = {}\n",
    "RE_tech = pd.Series(RE_tech).str[2:4].unique()\n",
    "#ResEN_tech = pd.Series(ResEN_tech).str[2:4].unique()\n",
    "ResEN_tech = np.append(ResEN_tech, 'BM')\n",
    "\n",
    "for run in replications:\n",
    "    PrimEn[run] = pd.DataFrame(index=YEAR.VALUE, columns=(list(ResEN_tech)+list(RE_tech))).fillna(0)\n",
    "    results_file1 = Path(f'{folder}', 'results', '0', f'{run}', 'ProductionByTechnologyAnnual.csv')\n",
    "    results_file2 = Path(f'{folder}', 'results', '0', f'{run}', 'UseByTechnology.csv')\n",
    "    if not os.path.exists(results_file1):\n",
    "        pass\n",
    "    else:\n",
    "        ProductionByTechnologyAnnual=pd.read_csv(results_file1)\n",
    "        UseByTechnology=pd.read_csv(results_file2)\n",
    "        for year in YEAR.VALUE:\n",
    "            for tech in ResEN_tech:\n",
    "                PrimEn_temp = ProductionByTechnologyAnnual[(ProductionByTechnologyAnnual['TECHNOLOGY'] == tech)&(ProductionByTechnologyAnnual['YEAR'] == year)]\n",
    "                PrimEn[run].loc[year,tech] = PrimEn_temp['VALUE'].sum()\n",
    "            Use_temp = UseByTechnology.loc[(UseByTechnology['TECHNOLOGY'].str[2:4]=='BM')&(UseByTechnology['FUEL']=='C1_P_BIOW')&(UseByTechnology['YEAR']==year)]\n",
    "            PrimEn[run].loc[year, 'BM']+= Use_temp['VALUE'].sum()\n",
    "            for tech in RE_tech:\n",
    "                PrimREn_temp = ProductionByTechnologyAnnual.loc[(ProductionByTechnologyAnnual['TECHNOLOGY'].str[2:4] == tech)&(ProductionByTechnologyAnnual['YEAR'] == year)]\n",
    "                PrimEn[run].loc[year, tech] = PrimREn_temp['VALUE'].sum()"
   ]
  },
  {
   "cell_type": "code",
   "execution_count": 9,
   "metadata": {},
   "outputs": [],
   "source": [
    "# RE_tech = pd.Series(RE_tech).str[2:4].unique()\n",
    "# print(RE_tech)\n",
    "# #ResEN_tech = pd.Series(ResEN_tech).str[2:4].unique()\n",
    "# #ResEN_tech = np.append(ResEN_tech)#, 'BM')\n",
    "# print(ResEN_tech)\n",
    "\n",
    "# PrimEn= pd.DataFrame(columns=['RUN', 'TECHNOLOGY', 'YEAR', 'VALUE'])"
   ]
  },
  {
   "cell_type": "code",
   "execution_count": 10,
   "metadata": {},
   "outputs": [],
   "source": [
    "#%% read in GLUCOSE results: ProductionByTechnologyAnnual - Primary Energy\n",
    "#PrimEn = {}\n",
    "#RE_tech = pd.Series(RE_tech).str[2:4].unique()\n",
    "#ResEN_tech = pd.Series(ResEN_tech).str[2:4].unique()\n",
    "#ResEN_tech = np.append(ResEN_tech)#, 'BM')\n",
    "#print(ResEN_tech)\n",
    "\n",
    "# #PrimEn= pd.DataFrame(columns=['RUN', 'TECHNOLOGY', 'YEAR', 'VALUE'])\n",
    "# for run in replications:\n",
    "#     results_file1 = Path(f'{folder}', 'results', '0', f'{run}', 'ProductionByTechnologyAnnual.csv')\n",
    "#     results_file2 = Path(f'{folder}', 'results', '0', f'{run}', 'UseByTechnology.csv')\n",
    "#     if not os.path.exists(results_file1):\n",
    "#         pass\n",
    "#     else:\n",
    "#         ProductionByTechnologyAnnual=pd.read_csv(results_file1)\n",
    "#         UseByTechnology=pd.read_csv(results_file2)\n",
    "#         for tech in ResEN_tech:\n",
    "#             PrimEn_temp = ProductionByTechnologyAnnual[(ProductionByTechnologyAnnual['TECHNOLOGY'] == tech)]\n",
    "#             PrimEn_temp=PrimEn_temp.drop(['REGION','FUEL'], axis=1)\n",
    "#             PrimEn_temp['RUN'] = run\n",
    "#             print(PrimEn_temp)\n",
    "#             PrimEn = pd.concat([PrimEn, PrimEn_temp], axis=0, ignore_index=True)\n",
    "#         #print(PrimEn)\n",
    "#         for tech in RE_tech:\n",
    "#             PrimREn_temp = ProductionByTechnologyAnnual.loc[(ProductionByTechnologyAnnual['TECHNOLOGY'].str[2:4] == tech)]\n",
    "#             PrimREn_temp['VALUE']=PrimREn_temp.groupby(['YEAR'])['VALUE'].transform(sum)\n",
    "#             PrimREn_temp = PrimREn_temp.drop(['REGION','FUEL'], axis=1)\n",
    "#             PrimREn_temp['RUN'] = run\n",
    "#             PrimREn_temp['TECHNOLOGY'] = tech\n",
    "#             print(PrimREn_temp)\n",
    "#             PrimEn = pd.concat([PrimEn, PrimREn_temp], axis=0, ignore_index=True)\n",
    "#         print(PrimEn)\n",
    "        # Use_temp = UseByTechnology.loc[(UseByTechnology['TECHNOLOGY'].str[2:4]=='BM')&(UseByTechnology['FUEL']=='C1_P_BIOW')]\n",
    "        # #Use_temp=Use_temp.drop(['REGION', 'TIMESLICE'], axis=1)\n",
    "        # Use_temp['VALUE']=Use_temp.groupby(['YEAR'])['VALUE'].transform(sum)\n",
    "        # #print(Use_temp)\n",
    "        # Use_temp=Use_temp.drop(['REGION','TIMESLICE','FUEL'], axis=1)\n",
    "        # Use_temp['RUN'] = run\n",
    "        # Use_temp['TECHNOLOGY'] = 'BM'\n",
    "        # print(Use_temp)\n",
    "        # PrimEn = pd.concat([PrimEn, Use_temp], axis=0, ignore_index=True)\n",
    "        #     \n",
    "        # for year in Use_temp.YEAR.unique():\n",
    "        #     value = Use_temp.loc[Use_temp['YEAR'] == year, 'VALUE'].sum()\n",
    "        #     Use_temp.drop(['REGION','TIMESLICE','FUEL'], axis=1)\n",
    "        #     Use_temp['RUN'] = run\n",
    "        #     Use_temp['TECHNOLOGY'] = 'BM'\n",
    "        #     Use_temp['VALUE'] = value\n",
    "        #     #print(Use_temp)\n",
    "        #     PrimEn = pd.concat([PrimEn, Use_temp], axis=0, ignore_index=True)\n",
    "\n",
    "        # for tech in RE_tech:\n",
    "        #     PrimREn_temp = ProductionByTechnologyAnnual.loc[(ProductionByTechnologyAnnual['TECHNOLOGY'].str[2:4] == tech)]\n",
    "        #     PrimREn_temp.drop(['REGION','FUEL'], axis=1)\n",
    "        #     PrimREn_temp['RUN'] = run\n",
    "        #     PrimREn_temp['TECHNOLOGY'] = tech\n"
   ]
  },
  {
   "cell_type": "code",
   "execution_count": 11,
   "metadata": {},
   "outputs": [],
   "source": [
    "# save results ProductionByTechnologyAnnual - Primary Energy into file\n",
    "output = 'GLUCOSE_PrimaryEnergy'\n",
    "\n",
    "fp = open(f'{output}'+'.p', 'wb')\n",
    "my_path = Path(f'{folder}', 'GLUCOSE_DataProcessing', f'{output}'+'.p') \n",
    "with my_path.open('wb') as fp:\n",
    "    pickle.dump(PrimEn, fp)"
   ]
  },
  {
   "cell_type": "code",
   "execution_count": 12,
   "metadata": {},
   "outputs": [],
   "source": [
    "#%% read in GLUCOSE results: TotalCapacityAnnual - Electrical Capacity\n",
    "Capacity_elc = {}\n",
    "#RE_tech = pd.Series(RE_tech).str[2:4].unique()\n",
    "PrimEN_tech_abb = (pd.Series(PrimEN_tech).str[2:4].unique())\n",
    "PrimEN_tech = np.append(PrimEN_tech, 'BM')\n",
    "\n",
    "for run in replications:\n",
    "    Capacity_elc[run] = pd.DataFrame(index=YEAR.VALUE, columns=(list(PrimEN_tech_abb))).fillna(0)\n",
    "    results_file1 = Path(f'{folder}', 'results', '0', f'{run}', 'TotalCapacityAnnual.csv')\n",
    "    results_file2 = Path(f'{folder}', 'results', '0', f'model_{run}', 'data', 'OutputActivityRatio.csv')\n",
    "    if not os.path.exists(results_file1)|os.path.exists(results_file2):\n",
    "        pass\n",
    "    else:\n",
    "        TotalCapacityAnnual=pd.read_csv(results_file1)\n",
    "        OutputActivityRatio=pd.read_csv(results_file2)\n",
    "        for tech in PrimEN_tech:\n",
    "            if tech[-2:] != 'CS':\n",
    "                for year in YEAR.VALUE:\n",
    "                    #for tech in PrimEN_tech:\n",
    "                    OAR = (OutputActivityRatio[(OutputActivityRatio['TECHNOLOGY'] == tech)&(OutputActivityRatio['YEAR'] == year)&(OutputActivityRatio['MODE_OF_OPERATION'] == 1)]).FUEL\n",
    "                    for oar in OAR:\n",
    "                        if oar == 'C1_S_ELC':\n",
    "                            Capacity_elc_temp = TotalCapacityAnnual[(TotalCapacityAnnual['TECHNOLOGY'] == tech)&(TotalCapacityAnnual['YEAR'] == year)]\n",
    "                            tech_abb = tech[2:4]\n",
    "                            Capacity_elc[run].loc[year,tech_abb] += Capacity_elc_temp['VALUE'].sum()\n",
    "            else:\n",
    "                ccs_abb = tech[2:4]+tech[-2:]\n",
    "                Capacity_elc[run][ccs_abb]=0\n",
    "                for year in YEAR.VALUE:\n",
    "                    #for tech in PrimEN_tech:\n",
    "                    OAR = (OutputActivityRatio[(OutputActivityRatio['TECHNOLOGY'] == tech)&(OutputActivityRatio['YEAR'] == year)&(OutputActivityRatio['MODE_OF_OPERATION'] == 1)]).FUEL\n",
    "                    for oar in OAR:\n",
    "                        if oar == 'C1_S_ELC':\n",
    "                            Capacity_elc_temp = TotalCapacityAnnual[(TotalCapacityAnnual['TECHNOLOGY'] == tech)&(TotalCapacityAnnual['YEAR'] == year)]\n",
    "                            Capacity_elc[run].loc[year,ccs_abb] += Capacity_elc_temp['VALUE'].sum()\n",
    "\n",
    "            # Use_temp = UseByTechnology.loc[(UseByTechnology['TECHNOLOGY'].str[2:4]=='BM')&(UseByTechnology['FUEL']=='C1_P_BIOW')&(UseByTechnology['YEAR']==year)]\n",
    "            # PrimEn[run].loc[year, 'BM']+= Use_temp['VALUE'].sum()\n",
    "            # for tech in RE_tech:\n",
    "            #     TPES_temp = ProductionByTechnologyAnnual.loc[(ProductionByTechnologyAnnual['TECHNOLOGY'].str[2:4] == tech)&(ProductionByTechnologyAnnual['YEAR'] == year)]\n",
    "            #     TPES[run].loc[year, tech] = TPES_temp['VALUE'].sum()"
   ]
  },
  {
   "cell_type": "code",
   "execution_count": 13,
   "metadata": {},
   "outputs": [],
   "source": [
    "# save results TotalCapacityAnnual - Electrical Capacity into file\n",
    "output = 'GLUCOSE_ElectricalCapacity'\n",
    "\n",
    "fp = open(f'{output}'+'.p', 'wb')\n",
    "my_path = Path(f'{folder}', 'GLUCOSE_DataProcessing', f'{output}'+'.p') \n",
    "with my_path.open('wb') as fp:\n",
    "    pickle.dump(Capacity_elc, fp)"
   ]
  },
  {
   "cell_type": "code",
   "execution_count": 14,
   "metadata": {},
   "outputs": [],
   "source": [
    "#%% read in GLUCOSE results: TotalAnnualTechnologyActivityByMode - Land Use\n",
    "LandResources = {}\n",
    "land_tech = ['LA1', 'LA1_i', 'LA2', 'LF1', 'LF2', 'LO']\n",
    "# for tech in land_tech:\n",
    "#     LandResources[run]=pd.DataFrame(index=YEAR.VALUE, columns=land_tech).fillna(0)\n",
    "\n",
    "for run in replications:\n",
    "    LandResources[run]=pd.DataFrame(index=YEAR.VALUE, columns=(list(land_tech))).fillna(0)\n",
    "    results_file1 = Path(f'{folder}', 'results', '0', f'{run}', 'TotalAnnualTechnologyActivityByMode.csv')\n",
    "    if not os.path.exists(results_file1):\n",
    "        pass\n",
    "    else:\n",
    "        TotalAnnualTechnologyActivityByMode=pd.read_csv(results_file1)\n",
    "        for year in YEAR.VALUE:\n",
    "            for tech in land_tech:\n",
    "                Land_temp = TotalAnnualTechnologyActivityByMode[(TotalAnnualTechnologyActivityByMode['TECHNOLOGY'] == tech)&(TotalAnnualTechnologyActivityByMode['YEAR'] == year)&(TotalAnnualTechnologyActivityByMode['MODE_OF_OPERATION'] == 1)]\n",
    "                LandResources[run].loc[year, tech] = Land_temp['VALUE'].sum()"
   ]
  },
  {
   "cell_type": "code",
   "execution_count": 15,
   "metadata": {},
   "outputs": [],
   "source": [
    "# save results TotalAnnualTechnologyActivityByMode - Land Use into file\n",
    "output = 'GLUCOSE_LandUse'\n",
    "\n",
    "fp = open(f'{output}'+'.p', 'wb')\n",
    "my_path = Path(f'{folder}', 'GLUCOSE_DataProcessing', f'{output}'+'.p') \n",
    "with my_path.open('wb') as fp:\n",
    "    pickle.dump(LandResources, fp)"
   ]
  },
  {
   "cell_type": "code",
   "execution_count": 16,
   "metadata": {},
   "outputs": [],
   "source": [
    "#%% read in GLUCOSE results: ProductionByTechnologyAnnual - Primary Energy, RENEWABLES\n",
    "# RE penetration \n",
    "RE_prod = pd.DataFrame(index=replications, columns=YEAR.VALUE).fillna(0)\n",
    "for run in replications:\n",
    "    PrimEn_RE = PrimEn[run].iloc[: , -6:].sum(axis=1)\n",
    "    RE_prod.iloc[run] = PrimEn_RE.transpose()"
   ]
  },
  {
   "cell_type": "code",
   "execution_count": 17,
   "metadata": {},
   "outputs": [],
   "source": [
    "# save GLUCOSE results: ProductionByTechnologyAnnual - Primary Energy, RENEWABLES into file\n",
    "output = 'GLUCOSE_PrimaryEnergy_RE'\n",
    "\n",
    "fp = open(f'{output}'+'.p', 'wb')\n",
    "my_path = Path(f'{folder}', 'GLUCOSE_DataProcessing', f'{output}'+'.p') \n",
    "with my_path.open('wb') as fp:\n",
    "    pickle.dump(RE_prod, fp)"
   ]
  },
  {
   "cell_type": "code",
   "execution_count": 19,
   "metadata": {},
   "outputs": [],
   "source": [
    "#%% read in GLUCOSE results: TotalCapacityAnnual - Electrical Capacity, RENEWABLES\n",
    "# RE penetration \n",
    "\n",
    "#RES = pd.Series(pd.Series(RE_tech).str[2:4].unique())\n",
    "RES = np.append(RE_tech, 'BM')\n",
    "RE_cap = pd.DataFrame(index=replications, columns=YEAR.VALUE).fillna(0)\n",
    "for run in replications:\n",
    "    ElcCap_RE = pd.Series(index=YEAR.VALUE, dtype=float).fillna(0)\n",
    "    for t in RES:\n",
    "        ElcCap_RE += Capacity_elc[run][t]\n",
    "    RE_cap.iloc[run] = ElcCap_RE.transpose()\n"
   ]
  },
  {
   "cell_type": "code",
   "execution_count": 20,
   "metadata": {},
   "outputs": [],
   "source": [
    "# save GLUCOSE results: TotalCapacityAnnual - Electrical Capacity, RENEWABLES into file\n",
    "output = 'GLUCOSE_ElectricalCapacity_RE'\n",
    "\n",
    "fp = open(f'{output}'+'.p', 'wb')\n",
    "my_path = Path(f'{folder}', 'GLUCOSE_DataProcessing', f'{output}'+'.p') \n",
    "with my_path.open('wb') as fp:\n",
    "    pickle.dump(RE_cap, fp)"
   ]
  },
  {
   "cell_type": "code",
   "execution_count": 21,
   "metadata": {},
   "outputs": [],
   "source": [
    "# calculate technology penetration rate: TotalCapacityAnnual - Electrical Capacity, RENEWABLES \n",
    "RE_cap_diff = pd.DataFrame(index=replications, columns=range(2020,2051))\n",
    "for c in RE_cap_diff.columns:\n",
    "    RE_cap_diff[c]= RE_cap[c] - RE_cap[c-1]"
   ]
  },
  {
   "cell_type": "code",
   "execution_count": 22,
   "metadata": {},
   "outputs": [],
   "source": [
    "# save technology penetration rate: TotalCapacityAnnual - Electrical Capacity, RENEWABLE\n",
    "output = 'GLUCOSE_ElectricalCapacity_RE_diff'\n",
    "\n",
    "fp = open(f'{output}'+'.p', 'wb')\n",
    "my_path = Path(f'{folder}', 'GLUCOSE_DataProcessing', f'{output}'+'.p') \n",
    "with my_path.open('wb') as fp:\n",
    "    pickle.dump(RE_cap_diff, fp)"
   ]
  },
  {
   "cell_type": "code",
   "execution_count": 23,
   "metadata": {},
   "outputs": [],
   "source": [
    "#%% read in GLUCOSE results: ProductionByTechnologyAnnual - Primary Energy, NUCLEAR\n",
    "# nuclear penetration\n",
    "NU_prod = pd.DataFrame(index=replications, columns=YEAR.VALUE).fillna(0)\n",
    "for run in replications:\n",
    "    PrimEn_techs = pd.Series(PrimEn[run].columns) \n",
    "    NU_tech = PrimEn_techs[PrimEn_techs.str[2:4]=='NU']\n",
    "    PrimEn_NU = PrimEn[run][NU_tech]\n",
    "    NU_prod.iloc[run] = PrimEn_NU.transpose()"
   ]
  },
  {
   "cell_type": "code",
   "execution_count": 24,
   "metadata": {},
   "outputs": [],
   "source": [
    "# save GLUCOSE results: ProductionByTechnologyAnnual - Primary Energy, NUCLEAR into file\n",
    "output = 'GLUCOSE_PrimaryEnergy_NU'\n",
    "\n",
    "fp = open(f'{output}'+'.p', 'wb')\n",
    "my_path = Path(f'{folder}', 'GLUCOSE_DataProcessing', f'{output}'+'.p') \n",
    "with my_path.open('wb') as fp:\n",
    "    pickle.dump(NU_prod, fp)"
   ]
  },
  {
   "cell_type": "code",
   "execution_count": 25,
   "metadata": {},
   "outputs": [],
   "source": [
    "#%% read in GLUCOSE results: TotalCapacityAnnual - Electrical Capacity, NUCLEAR\n",
    "# nuclear penetration\n",
    "NU_cap = pd.DataFrame(index=replications, columns=YEAR.VALUE).fillna(0)\n",
    "for run in replications:\n",
    "    NU_tech = PrimEn_techs[PrimEn_techs.str[2:4]=='NU']\n",
    "    #CapElc_NU = Capacity_elc[run][NU_tech.str[2:4]]\n",
    "    NU_cap.iloc[run] = Capacity_elc[run][NU_tech.str[2:4]].transpose()"
   ]
  },
  {
   "cell_type": "code",
   "execution_count": 26,
   "metadata": {},
   "outputs": [],
   "source": [
    "# save GLUCOSE results: TotalCapacityAnnual - Electrical Capacity, NUCLEAR\n",
    "output = 'GLUCOSE_ElectricalCapacity_NU'\n",
    "\n",
    "fp = open(f'{output}'+'.p', 'wb')\n",
    "my_path = Path(f'{folder}', 'GLUCOSE_DataProcessing', f'{output}'+'.p') \n",
    "with my_path.open('wb') as fp:\n",
    "    pickle.dump(NU_cap, fp)"
   ]
  },
  {
   "cell_type": "code",
   "execution_count": 27,
   "metadata": {},
   "outputs": [
    {
     "name": "stdout",
     "output_type": "stream",
     "text": [
      "0.3146\n",
      "0.3225\n",
      "-0.007900000000000018\n"
     ]
    }
   ],
   "source": [
    "# calculate technology penetration rate: TotalCapacityAnnual - Electrical Capacity, NUCLEAR \n",
    "NU_cap_diff = pd.DataFrame(index=replications, columns=range(2020,2051))\n",
    "for c in NU_cap_diff.columns:\n",
    "    NU_cap_diff[c]=NU_cap[c]-NU_cap[c-1]\n",
    "print(NU_cap[2020][0])\n",
    "print(NU_cap[2019][0])\n",
    "print(NU_cap_diff[2020][0])"
   ]
  },
  {
   "cell_type": "code",
   "execution_count": 28,
   "metadata": {},
   "outputs": [],
   "source": [
    "# save technology penetration rate: TotalCapacityAnnual - Electrical Capacity, NUCLEAR \n",
    "output = 'GLUCOSE_ElectricalCapacity_NU_diff'\n",
    "\n",
    "fp = open(f'{output}'+'.p', 'wb')\n",
    "my_path = Path(f'{folder}', 'GLUCOSE_DataProcessing', f'{output}'+'.p') \n",
    "with my_path.open('wb') as fp:\n",
    "    pickle.dump(NU_cap_diff, fp)"
   ]
  },
  {
   "cell_type": "code",
   "execution_count": 29,
   "metadata": {},
   "outputs": [],
   "source": [
    "#%% read in GLUCOSE results: TotalCapacityAnnual - Electrical Capacity, CCS\n",
    "# CCS penetration\n",
    "CCS_ElcCap = pd.DataFrame(index=replications, columns=YEAR.VALUE).fillna(0)\n",
    "for run in replications:\n",
    "    Capacity_elc_techs = pd.Series(Capacity_elc[run].columns) \n",
    "    CCS_tech = Capacity_elc_techs[Capacity_elc_techs.str[-2:]=='CS']\n",
    "    Cap_CCS = Capacity_elc[run][CCS_tech].sum(axis=1)\n",
    "    CCS_ElcCap.iloc[run] = Cap_CCS.transpose()\n",
    "CCS_ElcCap = CCS_ElcCap.iloc[:,:-10]\n",
    "#print(CCS_ElcCap)\n"
   ]
  },
  {
   "cell_type": "code",
   "execution_count": null,
   "metadata": {},
   "outputs": [],
   "source": [
    "# save GLUCOSE results: TotalCapacityAnnual - Electrical Capacity, CCS into file\n",
    "output = 'GLUCOSE_ElectricalCapacity_CCS'\n",
    "\n",
    "fp = open(f'{output}'+'.p', 'wb')\n",
    "my_path = Path(f'{folder}', 'GLUCOSE_DataProcessing', f'{output}'+'.p') \n",
    "with my_path.open('wb') as fp:\n",
    "    pickle.dump(CCS_ElcCap, fp)"
   ]
  },
  {
   "cell_type": "code",
   "execution_count": null,
   "metadata": {},
   "outputs": [],
   "source": [
    "# calculate technology penetration rate: TotalCapacityAnnual - Electrical Capacity, CCS\n",
    "CCS_ElcCap_diff = pd.DataFrame(index=replications, columns=range(2020,2051))\n",
    "for c in CCS_ElcCap_diff.columns:\n",
    "    CCS_ElcCap_diff[c]=CCS_ElcCap[c]-CCS_ElcCap[c-1]\n",
    "\n",
    "# save GLUCOSE results: TotalCapacityAnnual - Electrical Capacity, CCS into file\n",
    "output = 'GLUCOSE_ElectricalCapacity_CCS_diff'\n",
    "\n",
    "fp = open(f'{output}'+'.p', 'wb')\n",
    "my_path = Path(f'{folder}', 'GLUCOSE_DataProcessing', f'{output}'+'.p') \n",
    "with my_path.open('wb') as fp:\n",
    "    pickle.dump(CCS_ElcCap_diff, fp)"
   ]
  },
  {
   "cell_type": "code",
   "execution_count": null,
   "metadata": {},
   "outputs": [],
   "source": [
    "#%% read in GLUCOSE data: AccumulatedAnnualDemand - Food - Crops, Livestock\n",
    "# food consumption\n",
    "Demand_MFOO = pd.DataFrame(index=replications, columns=YEAR.VALUE).fillna(0)\n",
    "Demand_VFOO = pd.DataFrame(index=replications, columns=YEAR.VALUE).fillna(0)\n",
    "for run in replications:\n",
    "    variable = 'AccumulatedAnnualDemand'\n",
    "    csv_file = Path(f'{folder}','results', '0', f'model_{run}', 'data', f'{variable}.csv')\n",
    "    AccumulatedAnnualDemand = pd.read_csv(csv_file)\n",
    "    MFOO = AccumulatedAnnualDemand.loc[(AccumulatedAnnualDemand[\"FUEL\"]=='MFOO')]\n",
    "    VFOO = AccumulatedAnnualDemand.loc[(AccumulatedAnnualDemand[\"FUEL\"]=='VFOO')]\n",
    "    for year in YEAR.VALUE:\n",
    "        MFOO_temp = MFOO[(MFOO['YEAR'] == year)]\n",
    "        VFOO_temp = VFOO[(VFOO['YEAR'] == year)]\n",
    "        Demand_MFOO.loc[run, year] = MFOO_temp['VALUE'].sum()\n",
    "        Demand_VFOO.loc[run, year] = VFOO_temp['VALUE'].sum()"
   ]
  },
  {
   "cell_type": "code",
   "execution_count": null,
   "metadata": {},
   "outputs": [],
   "source": [
    "# save GLUCOSE data: AccumulatedAnnualDemand - Food - Crops, Livestock into file\n",
    "output1 = 'GLUCOSE_FoodDemand_VFOO'\n",
    "output2 = 'GLUCOSE_FoodDemand_MFOO'\n",
    "\n",
    "fp = open(f'{output1}'+'.p', 'wb')\n",
    "my_path = Path(f'{folder}', 'GLUCOSE_DataProcessing', f'{output1}'+'.p') \n",
    "with my_path.open('wb') as fp:\n",
    "    pickle.dump(Demand_VFOO, fp)\n",
    "\n",
    "fp = open(f'{output2}'+'.p', 'wb')\n",
    "my_path = Path(f'{folder}', 'GLUCOSE_DataProcessing', f'{output2}'+'.p') \n",
    "with my_path.open('wb') as fp:\n",
    "    pickle.dump(Demand_MFOO, fp)"
   ]
  },
  {
   "cell_type": "code",
   "execution_count": null,
   "metadata": {},
   "outputs": [],
   "source": [
    "#%% read in GLUCOSE results: TotalAnnualTechnologyActivityByMode - Land Use, Forest land\n",
    "# total forest land (LF1+LF2)\n",
    "Forest_tot = pd.DataFrame(index=replications, columns=YEAR.VALUE).fillna(0)\n",
    "for run in replications:\n",
    "    LF_tot = LandResources[run]['LF1']+LandResources[run]['LF2']\n",
    "    Forest_tot.iloc[run] = LF_tot.transpose()"
   ]
  },
  {
   "cell_type": "code",
   "execution_count": null,
   "metadata": {},
   "outputs": [],
   "source": [
    "# save GLUCOSE results: TotalAnnualTechnologyActivityByMode - Land Use, Forest land into file\n",
    "output = 'GLUCOSE_LandUse_LF'\n",
    "\n",
    "fp = open(f'{output}'+'.p', 'wb')\n",
    "my_path = Path(f'{folder}', 'GLUCOSE_DataProcessing', f'{output}'+'.p') \n",
    "with my_path.open('wb') as fp:\n",
    "    pickle.dump(Forest_tot, fp)"
   ]
  },
  {
   "cell_type": "code",
   "execution_count": null,
   "metadata": {},
   "outputs": [],
   "source": [
    "#%% read in GLUCOSE results: AnnualEmissions\n",
    "# Total Emissions - CO2EQ and WATER\n",
    "Emissions = {}\n",
    "\n",
    "for e in emissions:\n",
    "    Emissions[e] = pd.DataFrame(index=replications,columns=YEAR.VALUE)\n",
    "    for run in replications:\n",
    "        csv_file = Path(f'{folder}', 'results', '0', f'{run}', 'AnnualEmissions.csv')\n",
    "        if not os.path.exists(csv_file):\n",
    "            pass\n",
    "        else:\n",
    "            AnnualEmissions = pd.read_csv(csv_file)\n",
    "            for year in YEAR.VALUE:\n",
    "                em_temp = AnnualEmissions[(AnnualEmissions['EMISSION'] == e)&(AnnualEmissions['YEAR'] == year)]\n",
    "                Emissions[e].loc[run, year] = em_temp['VALUE'].sum()\n"
   ]
  },
  {
   "cell_type": "code",
   "execution_count": null,
   "metadata": {},
   "outputs": [],
   "source": [
    "# save GLUCOSE results: AnnualEmissions into file\n",
    "output = 'GLUCOSE_Emissions'\n",
    "\n",
    "fp = open(f'{output}'+'.p', 'wb')\n",
    "my_path = Path(f'{folder}', 'GLUCOSE_DataProcessing', f'{output}'+'.p') \n",
    "with my_path.open('wb') as fp:\n",
    "    pickle.dump(Emissions, fp)"
   ]
  },
  {
   "cell_type": "code",
   "execution_count": null,
   "metadata": {},
   "outputs": [],
   "source": [
    "#%% read in GLUCOSE results: AnnualTechnologyEmission - CO2EQ, Direct Air Capture technologies\n",
    "# DAC penetration (C1ENDA1CS + C1ENDA2CS)\n",
    "DAC_emission = pd.DataFrame(index=replications, columns=YEAR.VALUE).fillna(0)\n",
    "for run in replications:\n",
    "    csv_file = Path(f'{folder}', 'results', '0', f'{run}', 'AnnualTechnologyEmission.csv')\n",
    "    if not os.path.exists(csv_file):\n",
    "        pass\n",
    "    else:\n",
    "        AnnualTechnologyEmission = pd.read_csv(csv_file)\n",
    "        for year in YEAR.VALUE:\n",
    "            DAC_CO2EQ = AnnualTechnologyEmission[((AnnualTechnologyEmission['TECHNOLOGY'] == 'C1ENDA1CS')|(AnnualTechnologyEmission['TECHNOLOGY'] == 'C1ENDA2CS'))&(AnnualTechnologyEmission['EMISSION'] == 'CO2EQ')&(AnnualTechnologyEmission['YEAR'] == year)]\n",
    "            DAC_emission.loc[run,year] = DAC_CO2EQ['VALUE'].sum()\n"
   ]
  },
  {
   "cell_type": "code",
   "execution_count": null,
   "metadata": {},
   "outputs": [],
   "source": [
    "output = 'GLUCOSE_Emissions_DAC'\n",
    "\n",
    "fp = open(f'{output}'+'.p', 'wb')\n",
    "my_path = Path(f'{folder}', 'GLUCOSE_DataProcessing', f'{output}'+'.p') \n",
    "with my_path.open('wb') as fp:\n",
    "    pickle.dump(DAC_emission, fp)"
   ]
  },
  {
   "cell_type": "code",
   "execution_count": null,
   "metadata": {},
   "outputs": [],
   "source": [
    "# calculate technology penetration rate: AnnualTechnologyEmission - CO2EQ, Direct Air Capture technologies\n",
    "DAC_emission_diff = pd.DataFrame(index=replications, columns=range(2020,2051))\n",
    "for c in DAC_emission_diff.columns:\n",
    "    DAC_emission_diff[c]=DAC_emission[c]-DAC_emission[c-1]\n",
    "\n",
    "# save GLUCOSE results: AnnualTechnologyEmission - CO2EQ, Direct Air Capture technologies penetration rate into file\n",
    "output = 'GLUCOSE_Emissions_DAC_diff'\n",
    "\n",
    "fp = open(f'{output}'+'.p', 'wb')\n",
    "my_path = Path(f'{folder}', 'GLUCOSE_DataProcessing', f'{output}'+'.p') \n",
    "with my_path.open('wb') as fp:\n",
    "    pickle.dump(DAC_emission_diff, fp)"
   ]
  }
 ],
 "metadata": {
  "kernelspec": {
   "display_name": "Python 3.8.13 ('prim_rdm')",
   "language": "python",
   "name": "python3"
  },
  "language_info": {
   "codemirror_mode": {
    "name": "ipython",
    "version": 3
   },
   "file_extension": ".py",
   "mimetype": "text/x-python",
   "name": "python",
   "nbconvert_exporter": "python",
   "pygments_lexer": "ipython3",
   "version": "3.8.13"
  },
  "orig_nbformat": 4,
  "vscode": {
   "interpreter": {
    "hash": "3d129f0a3c6c9988f76ad57f06e4f1e11ab2d90427380afbc73b484ae1e7a717"
   }
  }
 },
 "nbformat": 4,
 "nbformat_minor": 2
}
